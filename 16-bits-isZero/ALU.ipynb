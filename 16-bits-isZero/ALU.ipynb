{
 "cells": [
  {
   "cell_type": "code",
   "execution_count": 22,
   "metadata": {},
   "outputs": [],
   "source": [
    "from logic import *\n",
    "\n",
    "class ALU():\n",
    "    def __init__(self, name, zeroFlag = 1, overflowFlag = 0, negativeFlag = 0):\n",
    "        self.name = name\n",
    "        self.zeroFlag = zeroFlag\n",
    "        self.overflowFlag  = overflowFlag\n",
    "        self.negativeFlag= negativeFlag\n",
    "        \n",
    "    def isZero(self, byte):\n",
    "        Out = Not(\"Out\")\n",
    "        def isSimpleZero(byte):\n",
    "            if len(byte) == 2:\n",
    "                F0 = Or(\"F0\")\n",
    "                F0.A.set(bit(byte, 0))\n",
    "                F0.B.set(bit(byte, 1))\n",
    "                return F0.C.value\n",
    "            else:\n",
    "                F1 = Or(\"F1\")\n",
    "                left = isSimpleZero(byte[0:int(len(byte)/2)])\n",
    "                right = isSimpleZero(byte[int(len(byte)/2):int(len(byte))])\n",
    "                F1.A.set(left)\n",
    "                F1.B.set(right)\n",
    "                # print(left, right)\n",
    "                return (F1.C.value)\n",
    "        Out.A.set(isSimpleZero(byte))\n",
    "        Out.evaluate()\n",
    "        flag = Out.B.value\n",
    "        self.zeroFlag = flag\n",
    "        return flag"
   ]
  },
  {
   "cell_type": "code",
   "execution_count": 20,
   "metadata": {},
   "outputs": [
    {
     "name": "stdout",
     "output_type": "stream",
     "text": [
      "Test 2bits, Is zero:  False\n",
      "Test 4bits, Is zero:   True\n",
      "Test 8bits, Is zero:   False\n",
      "Test 16bits, Is zero:   False\n",
      "Test 32bits, Is zero:   True\n",
      "Test 64bits, Is zero:   True\n",
      "Test 128bits, Is zero:   False\n"
     ]
    }
   ],
   "source": [
    "test = ALU(\"test\")\n",
    "print(f\"Test 2bits, Is zero: \",  test.isZero(\"01\"))\n",
    "print(f\"Test 4bits, Is zero:  \" ,  test.isZero(\"0000\"))\n",
    "print(f\"Test 8bits, Is zero:  \" ,  test.isZero(\"00010000\"))\n",
    "print(f\"Test 16bits, Is zero:  \" ,  test.isZero(\"0101000000010000\"))\n",
    "print(f\"Test 32bits, Is zero:  \" ,  test.isZero(\"00000000000000000000000000000000\"))\n",
    "print(f\"Test 64bits, Is zero:  \" ,  test.isZero(\"0000000000000000000000000000000000000000000000000000000000000000\"))\n",
    "print(f\"Test 128bits, Is zero:  \" ,  test.isZero(\"10000000000000000000000000000000000000000000000000000000000000001000000000000000000000000000000000000000000000000000000000000000\"))"
   ]
  }
 ],
 "metadata": {
  "interpreter": {
   "hash": "63fd5069d213b44bf678585dea6b12cceca9941eaf7f819626cde1f2670de90d"
  },
  "kernelspec": {
   "display_name": "Python 3.9.6 64-bit",
   "language": "python",
   "name": "python3"
  },
  "language_info": {
   "codemirror_mode": {
    "name": "ipython",
    "version": 3
   },
   "file_extension": ".py",
   "mimetype": "text/x-python",
   "name": "python",
   "nbconvert_exporter": "python",
   "pygments_lexer": "ipython3",
   "version": "3.9.6"
  },
  "orig_nbformat": 4
 },
 "nbformat": 4,
 "nbformat_minor": 2
}
